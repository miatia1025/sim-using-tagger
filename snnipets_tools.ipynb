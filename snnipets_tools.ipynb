{
 "cells": [
  {
   "attachments": {},
   "cell_type": "markdown",
   "metadata": {},
   "source": [
    "# review of copying tags scrpit"
   ]
  },
  {
   "cell_type": "code",
   "execution_count": 1,
   "metadata": {},
   "outputs": [],
   "source": [
    "import os\n",
    "import shutil\n",
    "\n",
    "# コピー元のpath、先頭のrは必須\n",
    "src_path = r\"E:\\AI\\miatiadev\\miatia-tagger\\imgs\\resized_pixiv_filtered_omit_pixiv_48456_and_low-med-res\"\n",
    "# コピー先のpath、先頭のrは必須\n",
    "dst_path = r\"E:\\AI\\miatiadev\\miatia-tagger\\imgs\\resized_pixiv_filtered_omit_pixiv_48456_and_low-med-res_tags\"\n",
    "\n",
    "# src_path以下のすべての.txtファイルのパスを再帰的に検索する\n",
    "for root, dirs, files in os.walk(src_path):\n",
    "    for file in files:\n",
    "        if file.endswith('.txt'):\n",
    "            # コピー元のファイルパス\n",
    "            source_file_path = os.path.join(root, file)\n",
    "            \n",
    "            # コピー先のファイルパス\n",
    "            destination_file_path = os.path.join(dst_path, os.path.relpath(source_file_path, src_path))\n",
    "            \n",
    "            # コピー先のフォルダが存在しない場合は作成する\n",
    "            os.makedirs(os.path.dirname(destination_file_path), exist_ok=True)\n",
    "            \n",
    "            # ファイルをコピーする\n",
    "            shutil.copy2(source_file_path, destination_file_path)"
   ]
  },
  {
   "cell_type": "code",
   "execution_count": 12,
   "metadata": {},
   "outputs": [],
   "source": [
    "## User Inputs\n",
    "\n",
    "src_path = r\"E:\\AI\\miatiadev\\miatia-tagger\\imgs\\resized_pixiv_filtered_omit_pixiv_48456_and_low-med-res_tags\"\n",
    "dst_path = r\"E:\\AI\\miatiadev\\miatia-tagger\\imgs\\resized_pixiv_filtered_omit_pixiv_48456_and_low-med-res_npys\"\n",
    "\n",
    "exts = (\".npy\")\n",
    "\n",
    "## User Inputs End\n",
    "\n",
    "\n",
    "# import\n",
    "import os\n",
    "import shutil\n",
    "\n",
    "# src_path以下のすべての.txtファイルのパスを再帰的に検索する\n",
    "for root, dirs, files in os.walk(src_path):\n",
    "    for file in files:\n",
    "        if file.endswith(exts):\n",
    "            # コピー元のファイルパス\n",
    "            source_file_path = os.path.join(root, file)\n",
    "\n",
    "            # コピー先のファイルパス\n",
    "            relative_path = os.path.relpath(source_file_path, src_path)\n",
    "            destination_file_path = os.path.join(dst_path, relative_path)\n",
    "\n",
    "            if os.path.exists(destination_file_path):\n",
    "                continue\n",
    "\n",
    "            else:\n",
    "                # フォルダ作成\n",
    "                os.makedirs(os.path.dirname(destination_file_path), exist_ok=True)\n",
    "\n",
    "                # コピー\n",
    "                shutil.copy(source_file_path, destination_file_path)"
   ]
  },
  {
   "attachments": {},
   "cell_type": "markdown",
   "metadata": {},
   "source": [
    "# review of removing specified exts script"
   ]
  },
  {
   "cell_type": "code",
   "execution_count": 10,
   "metadata": {},
   "outputs": [],
   "source": [
    "## User Inputs\n",
    "\n",
    "target_path = r\"E:\\AI\\miatiadev\\miatia-tagger\\imgs\\resized_pixiv_filtered_omit_pixiv_48456_and_low-med-res_tags\"\n",
    "\n",
    "#exts = (\".txt\", \".npy\")\n",
    "\n",
    "## User Inputs End\n",
    "\n",
    "\n",
    "import os\n",
    "from icecream import ic\n",
    "\n",
    "for root, _, files in os.walk(target_path):\n",
    "    for file in files:\n",
    "        if file.endswith(exts):\n",
    "            os.remove(os.path.join(root, file))\n",
    "            #ic(os.path.join(root, file))"
   ]
  }
 ],
 "metadata": {
  "kernelspec": {
   "display_name": "Python 3",
   "language": "python",
   "name": "python3"
  },
  "language_info": {
   "codemirror_mode": {
    "name": "ipython",
    "version": 3
   },
   "file_extension": ".py",
   "mimetype": "text/x-python",
   "name": "python",
   "nbconvert_exporter": "python",
   "pygments_lexer": "ipython3",
   "version": "3.10.6"
  },
  "orig_nbformat": 4
 },
 "nbformat": 4,
 "nbformat_minor": 2
}
