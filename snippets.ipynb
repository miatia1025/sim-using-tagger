{
 "cells": [
  {
   "attachments": {},
   "cell_type": "markdown",
   "metadata": {},
   "source": [
    "# simple embedding area\n"
   ]
  },
  {
   "cell_type": "code",
   "execution_count": null,
   "metadata": {},
   "outputs": [],
   "source": [
    "##\n",
    "\n",
    "img_dir = r\"E:\\AI\\miatiadev\\miatia-tagger\\imgs\\03_tagger\"\n",
    "\n",
    "##\n",
    "\n",
    "import numpy as np\n",
    "import faiss\n",
    "import glob\n",
    "from icecream import ic\n",
    "\n",
    "if img_dir.endswith((\"/\", \"\\\\\")):\n",
    "    img_dir = img_dir[:-1]\n",
    "\n",
    "# get npy files\n",
    "stored_vectors = glob.glob(f\"{img_dir}/*.npy\")\n",
    "\n",
    "test_vector = np.load(stored_vectors[0])\n",
    "\n",
    "ic(test_vector.shape[0])\n",
    "ic(test_vector.shape[1])\n",
    "ic(test_vector.shape[2])"
   ]
  },
  {
   "attachments": {},
   "cell_type": "markdown",
   "metadata": {},
   "source": [
    "# faiss area"
   ]
  },
  {
   "cell_type": "code",
   "execution_count": null,
   "metadata": {},
   "outputs": [],
   "source": [
    "##\n",
    "\n",
    "img_dir = r\"E:\\AI\\miatiadev\\miatia-tagger\\imgs\\03_tagger\"\n",
    "\n",
    "##\n",
    "\n",
    "import numpy as np\n",
    "import faiss\n",
    "import glob\n",
    "from icecream import ic\n",
    "\n",
    "if img_dir.endswith((\"/\", \"\\\\\")):\n",
    "    img_dir = img_dir[:-1]\n",
    "\n",
    "# get npy files\n",
    "stored_vectors = glob.glob(f\"{img_dir}/*.npy\")\n",
    "\n",
    "# create empty vector array\n",
    "vectors = []\n",
    "\n",
    "# store embeddings to a vector\n",
    "for vector_file in stored_vectors:\n",
    "    vectors.append(np.load(vector_file))\n",
    "\n",
    "vectors = np.array(vectors).astype(\"float32\")\n",
    "\n",
    "sample_vector = vectors[0]\n",
    "\n",
    "popped_vectors = vectors.reshape(vectors.shape[0], -1)\n",
    "\n",
    "ic(vectors.shape)\n",
    "ic(popped_vectors.shape)\n",
    "ic(sample_vector.shape)\n",
    "\n",
    "n_samples, _, n_dims = vectors.shape\n",
    "\n",
    "index = faiss.IndexFlatIP(n_dims)\n",
    "index.add(popped_vectors)\n",
    "\n",
    "I, D = index.search(np.array([sample_vector[1]]), k = 1)\n",
    "\n",
    "nearest_vector_index = int(I[0][0])\n",
    "nearest_vector_distance = D[0][0]\n",
    "\n",
    "nearest_vector = vectors[nearest_vector_index]"
   ]
  },
  {
   "cell_type": "code",
   "execution_count": null,
   "metadata": {},
   "outputs": [],
   "source": [
    "import numpy as np\n",
    "from icecream import ic\n",
    "d = 64                           # dimension\n",
    "nb = 100000                      # database size\n",
    "nq = 10000                       # nb of queries\n",
    "np.random.seed(1234)             # make reproducible\n",
    "xb = np.random.random((nb, d)).astype('float32')\n",
    "xb[:, 0] += np.arange(nb) / 1000.\n",
    "xq = np.random.random((nq, d)).astype('float32')\n",
    "xq[:, 0] += np.arange(nq) / 1000.\n",
    "ic(d)\n",
    "ic(xb)\n",
    "\n",
    "ic(n_dims)\n",
    "ic(len(popped_vectors[0]))\n",
    "\n",
    "import faiss                   # make faiss available\n",
    "index = faiss.IndexFlatL2(n_dims)   # build the index\n",
    "ic(index.is_trained)\n",
    "index.add(popped_vectors)                  # add vectors to the index\n",
    "ic(index.ntotal)\n",
    "\n",
    "k = 4                          # we want to see 4 nearest neighbors\n",
    "D, I = index.search(xb[:5], k) # sanity check\n",
    "print(I)\n",
    "print(D)\n",
    "D, I = index.search(xq, k)     # actual search\n",
    "print(I[:5])                   # neighbors of the 5 first queries\n",
    "print(I[-5:])                  # neighbors of the 5 last queries"
   ]
  },
  {
   "attachments": {},
   "cell_type": "markdown",
   "metadata": {},
   "source": [
    "# how to get img path"
   ]
  },
  {
   "cell_type": "code",
   "execution_count": 10,
   "metadata": {},
   "outputs": [],
   "source": [
    "## User Inputs \n",
    "\n",
    "img_path = r\"E:\\AI\\miatiadev\\miatia-tagger\\imgs\\02_similarity3\"\n",
    "ignore_dir_names = (\"npy\")\n",
    "target_exts = (\".png\", \".jpg\", \".jpeg\", \".PNG\", \".JPEG\", \".JPG\")\n",
    "\n",
    "## End of User Inputs\n",
    "\n",
    "from Utils import inferences\n",
    "from icecream import ic\n",
    "\n",
    "path_list_old, name_list_old = inferences.get_img_list(img_path)\n",
    "path_list_new, name_list_new = inferences.walk_img_list(img_path, ignore_dir_names, target_exts)\n",
    "\n",
    "assert sorted(path_list_old)==sorted(path_list_new)\n",
    "assert sorted(name_list_old)==sorted(name_list_new)"
   ]
  },
  {
   "cell_type": "code",
   "execution_count": 11,
   "metadata": {},
   "outputs": [
    {
     "name": "stderr",
     "output_type": "stream",
     "text": [
      "ic| path_list_old: ['E:\\\\AI\\\\miatiadev\\\\miatia-tagger\\\\imgs\\\\02_similarity3\\\\A.png',\n",
      "                    'E:\\\\AI\\\\miatiadev\\\\miatia-tagger\\\\imgs\\\\02_similarity3\\\\B.png',\n",
      "                    'E:\\\\AI\\\\miatiadev\\\\miatia-tagger\\\\imgs\\\\02_similarity3\\\\C.png',\n",
      "                    'E:\\\\AI\\\\miatiadev\\\\miatia-tagger\\\\imgs\\\\02_similarity3\\\\D.jpg',\n",
      "                    'E:\\\\AI\\\\miatiadev\\\\miatia-tagger\\\\imgs\\\\02_similarity3\\\\E.png',\n",
      "                    'E:\\\\AI\\\\miatiadev\\\\miatia-tagger\\\\imgs\\\\02_similarity3\\\\F.jpg',\n",
      "                    'E:\\\\AI\\\\miatiadev\\\\miatia-tagger\\\\imgs\\\\02_similarity3\\\\G.png']\n",
      "ic| path_list_new: ['E:\\\\AI\\\\miatiadev\\\\miatia-tagger\\\\imgs\\\\02_similarity3\\\\A.png',\n",
      "                    'E:\\\\AI\\\\miatiadev\\\\miatia-tagger\\\\imgs\\\\02_similarity3\\\\B.png',\n",
      "                    'E:\\\\AI\\\\miatiadev\\\\miatia-tagger\\\\imgs\\\\02_similarity3\\\\C.png',\n",
      "                    'E:\\\\AI\\\\miatiadev\\\\miatia-tagger\\\\imgs\\\\02_similarity3\\\\D.jpg',\n",
      "                    'E:\\\\AI\\\\miatiadev\\\\miatia-tagger\\\\imgs\\\\02_similarity3\\\\E.png',\n",
      "                    'E:\\\\AI\\\\miatiadev\\\\miatia-tagger\\\\imgs\\\\02_similarity3\\\\F.jpg',\n",
      "                    'E:\\\\AI\\\\miatiadev\\\\miatia-tagger\\\\imgs\\\\02_similarity3\\\\G.png']\n",
      "ic| name_list_old: ['A', 'B', 'C', 'D', 'E', 'F', 'G']\n",
      "ic| name_list_new: ['A', 'B', 'C', 'D', 'E', 'F', 'G']\n"
     ]
    },
    {
     "data": {
      "text/plain": [
       "['A', 'B', 'C', 'D', 'E', 'F', 'G']"
      ]
     },
     "execution_count": 11,
     "metadata": {},
     "output_type": "execute_result"
    }
   ],
   "source": [
    "ic(path_list_old)\n",
    "ic(path_list_new)\n",
    "ic(name_list_old)\n",
    "ic(name_list_new)"
   ]
  }
 ],
 "metadata": {
  "kernelspec": {
   "display_name": "Python 3",
   "language": "python",
   "name": "python3"
  },
  "language_info": {
   "codemirror_mode": {
    "name": "ipython",
    "version": 3
   },
   "file_extension": ".py",
   "mimetype": "text/x-python",
   "name": "python",
   "nbconvert_exporter": "python",
   "pygments_lexer": "ipython3",
   "version": "3.10.6"
  },
  "orig_nbformat": 4
 },
 "nbformat": 4,
 "nbformat_minor": 2
}
