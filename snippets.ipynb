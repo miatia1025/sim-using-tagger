{
 "cells": [
  {
   "cell_type": "code",
   "execution_count": 1,
   "metadata": {},
   "outputs": [
    {
     "name": "stderr",
     "output_type": "stream",
     "text": [
      "ic| test_vector.shape[0]: 1\n",
      "ic| test_vector.shape[1]: 9083\n"
     ]
    },
    {
     "ename": "IndexError",
     "evalue": "tuple index out of range",
     "output_type": "error",
     "traceback": [
      "\u001b[1;31m---------------------------------------------------------------------------\u001b[0m",
      "\u001b[1;31mIndexError\u001b[0m                                Traceback (most recent call last)",
      "Cell \u001b[1;32mIn[1], line 22\u001b[0m\n\u001b[0;32m     20\u001b[0m ic(test_vector\u001b[39m.\u001b[39mshape[\u001b[39m0\u001b[39m])\n\u001b[0;32m     21\u001b[0m ic(test_vector\u001b[39m.\u001b[39mshape[\u001b[39m1\u001b[39m])\n\u001b[1;32m---> 22\u001b[0m ic(test_vector\u001b[39m.\u001b[39;49mshape[\u001b[39m2\u001b[39;49m])\n",
      "\u001b[1;31mIndexError\u001b[0m: tuple index out of range"
     ]
    }
   ],
   "source": [
    "##\n",
    "\n",
    "img_dir = r\"E:\\AI\\miatiadev\\miatia-tagger\\imgs\\03_tagger\"\n",
    "\n",
    "##\n",
    "\n",
    "import numpy as np\n",
    "import faiss\n",
    "import glob\n",
    "from icecream import ic\n",
    "\n",
    "if img_dir.endswith((\"/\", \"\\\\\")):\n",
    "    img_dir = img_dir[:-1]\n",
    "\n",
    "# get npy files\n",
    "stored_vectors = glob.glob(f\"{img_dir}/*.npy\")\n",
    "\n",
    "test_vector = np.load(stored_vectors[0])\n",
    "\n",
    "ic(test_vector.shape[0])\n",
    "ic(test_vector.shape[1])\n",
    "ic(test_vector.shape[2])"
   ]
  },
  {
   "cell_type": "code",
   "execution_count": 13,
   "metadata": {},
   "outputs": [
    {
     "name": "stderr",
     "output_type": "stream",
     "text": [
      "ic| vectors.shape: (7, 1, 9083)\n",
      "ic| popped_vectors.shape: (7, 9083)\n",
      "ic| sample_vector.shape: (1, 9083)\n"
     ]
    },
    {
     "ename": "IndexError",
     "evalue": "index 1 is out of bounds for axis 0 with size 1",
     "output_type": "error",
     "traceback": [
      "\u001b[1;31m---------------------------------------------------------------------------\u001b[0m",
      "\u001b[1;31mIndexError\u001b[0m                                Traceback (most recent call last)",
      "Cell \u001b[1;32mIn[13], line 40\u001b[0m\n\u001b[0;32m     37\u001b[0m index \u001b[39m=\u001b[39m faiss\u001b[39m.\u001b[39mIndexFlatIP(n_dims)\n\u001b[0;32m     38\u001b[0m index\u001b[39m.\u001b[39madd(popped_vectors)\n\u001b[1;32m---> 40\u001b[0m I, D \u001b[39m=\u001b[39m index\u001b[39m.\u001b[39msearch(np\u001b[39m.\u001b[39marray([sample_vector[\u001b[39m1\u001b[39;49m]]), k \u001b[39m=\u001b[39m \u001b[39m1\u001b[39m)\n\u001b[0;32m     42\u001b[0m nearest_vector_index \u001b[39m=\u001b[39m \u001b[39mint\u001b[39m(I[\u001b[39m0\u001b[39m][\u001b[39m0\u001b[39m])\n\u001b[0;32m     43\u001b[0m nearest_vector_distance \u001b[39m=\u001b[39m D[\u001b[39m0\u001b[39m][\u001b[39m0\u001b[39m]\n",
      "\u001b[1;31mIndexError\u001b[0m: index 1 is out of bounds for axis 0 with size 1"
     ]
    }
   ],
   "source": [
    "##\n",
    "\n",
    "img_dir = r\"E:\\AI\\miatiadev\\miatia-tagger\\imgs\\03_tagger\"\n",
    "\n",
    "##\n",
    "\n",
    "import numpy as np\n",
    "import faiss\n",
    "import glob\n",
    "from icecream import ic\n",
    "\n",
    "if img_dir.endswith((\"/\", \"\\\\\")):\n",
    "    img_dir = img_dir[:-1]\n",
    "\n",
    "# get npy files\n",
    "stored_vectors = glob.glob(f\"{img_dir}/*.npy\")\n",
    "\n",
    "# create empty vector array\n",
    "vectors = []\n",
    "\n",
    "# store embeddings to a vector\n",
    "for vector_file in stored_vectors:\n",
    "    vectors.append(np.load(vector_file))\n",
    "\n",
    "vectors = np.array(vectors).astype(\"float32\")\n",
    "\n",
    "sample_vector = vectors[0]\n",
    "\n",
    "popped_vectors = vectors.reshape(vectors.shape[0], -1)\n",
    "\n",
    "ic(vectors.shape)\n",
    "ic(popped_vectors.shape)\n",
    "ic(sample_vector.shape)\n",
    "\n",
    "n_samples, _, n_dims = vectors.shape\n",
    "\n",
    "index = faiss.IndexFlatIP(n_dims)\n",
    "index.add(popped_vectors)\n",
    "\n",
    "I, D = index.search(np.array([sample_vector[1]]), k = 1)\n",
    "\n",
    "nearest_vector_index = int(I[0][0])\n",
    "nearest_vector_distance = D[0][0]\n",
    "\n",
    "nearest_vector = vectors[nearest_vector_index]"
   ]
  },
  {
   "cell_type": "code",
   "execution_count": 25,
   "metadata": {},
   "outputs": [
    {
     "name": "stderr",
     "output_type": "stream",
     "text": [
      "ic| d: 64\n",
      "ic| xb: array([[1.91519454e-01, 6.22108757e-01, 4.37727749e-01, ...,\n",
      "                6.24916732e-01, 4.78093803e-01, 1.95675179e-01],\n",
      "               [3.83317441e-01, 5.38736843e-02, 4.51648414e-01, ...,\n",
      "                1.51395261e-01, 3.35174650e-01, 6.57551765e-01],\n",
      "               [7.53425434e-02, 5.50063960e-02, 3.23194802e-01, ...,\n",
      "                3.44416976e-01, 6.40880406e-01, 1.26205325e-01],\n",
      "               ...,\n",
      "               [1.00811470e+02, 5.90245306e-01, 7.98893511e-01, ...,\n",
      "                3.39859009e-01, 3.01949501e-01, 8.53854537e-01],\n",
      "               [1.00669464e+02, 9.16068792e-01, 9.55078781e-01, ...,\n",
      "                5.95364332e-01, 3.84918079e-02, 1.05637990e-01],\n",
      "               [1.00855637e+02, 5.91134131e-01, 6.78907931e-01, ...,\n",
      "                2.18976989e-01, 6.53015897e-02, 2.17538327e-01]], dtype=float32)\n",
      "ic| n_dims: 9083\n",
      "ic| len(popped_vectors[0]): 9083\n",
      "ic| index.is_trained: True\n",
      "ic| index.ntotal: 7\n"
     ]
    },
    {
     "ename": "AssertionError",
     "evalue": "",
     "output_type": "error",
     "traceback": [
      "\u001b[1;31m---------------------------------------------------------------------------\u001b[0m",
      "\u001b[1;31mAssertionError\u001b[0m                            Traceback (most recent call last)",
      "Cell \u001b[1;32mIn[25], line 24\u001b[0m\n\u001b[0;32m     21\u001b[0m ic(index\u001b[39m.\u001b[39mntotal)\n\u001b[0;32m     23\u001b[0m k \u001b[39m=\u001b[39m \u001b[39m4\u001b[39m                          \u001b[39m# we want to see 4 nearest neighbors\u001b[39;00m\n\u001b[1;32m---> 24\u001b[0m D, I \u001b[39m=\u001b[39m index\u001b[39m.\u001b[39;49msearch(xb[:\u001b[39m5\u001b[39;49m], k) \u001b[39m# sanity check\u001b[39;00m\n\u001b[0;32m     25\u001b[0m \u001b[39mprint\u001b[39m(I)\n\u001b[0;32m     26\u001b[0m \u001b[39mprint\u001b[39m(D)\n",
      "File \u001b[1;32me:\\AI\\miatiadev\\miatia-tagger\\mamba\\lib\\site-packages\\faiss\\__init__.py:308\u001b[0m, in \u001b[0;36mhandle_Index.<locals>.replacement_search\u001b[1;34m(self, x, k, D, I)\u001b[0m\n\u001b[0;32m    283\u001b[0m \u001b[39m\u001b[39m\u001b[39m\"\"\"Find the k nearest neighbors of the set of vectors x in the index.\u001b[39;00m\n\u001b[0;32m    284\u001b[0m \n\u001b[0;32m    285\u001b[0m \u001b[39mParameters\u001b[39;00m\n\u001b[1;32m   (...)\u001b[0m\n\u001b[0;32m    304\u001b[0m \u001b[39m    When not enough results are found, the label is set to -1\u001b[39;00m\n\u001b[0;32m    305\u001b[0m \u001b[39m\"\"\"\u001b[39;00m\n\u001b[0;32m    307\u001b[0m n, d \u001b[39m=\u001b[39m x\u001b[39m.\u001b[39mshape\n\u001b[1;32m--> 308\u001b[0m \u001b[39massert\u001b[39;00m d \u001b[39m==\u001b[39m \u001b[39mself\u001b[39m\u001b[39m.\u001b[39md\n\u001b[0;32m    310\u001b[0m \u001b[39massert\u001b[39;00m k \u001b[39m>\u001b[39m \u001b[39m0\u001b[39m\n\u001b[0;32m    312\u001b[0m \u001b[39mif\u001b[39;00m D \u001b[39mis\u001b[39;00m \u001b[39mNone\u001b[39;00m:\n",
      "\u001b[1;31mAssertionError\u001b[0m: "
     ]
    }
   ],
   "source": [
    "import numpy as np\n",
    "from icecream import ic\n",
    "d = 64                           # dimension\n",
    "nb = 100000                      # database size\n",
    "nq = 10000                       # nb of queries\n",
    "np.random.seed(1234)             # make reproducible\n",
    "xb = np.random.random((nb, d)).astype('float32')\n",
    "xb[:, 0] += np.arange(nb) / 1000.\n",
    "xq = np.random.random((nq, d)).astype('float32')\n",
    "xq[:, 0] += np.arange(nq) / 1000.\n",
    "ic(d)\n",
    "ic(xb)\n",
    "\n",
    "ic(n_dims)\n",
    "ic(len(popped_vectors[0]))\n",
    "\n",
    "import faiss                   # make faiss available\n",
    "index = faiss.IndexFlatL2(n_dims)   # build the index\n",
    "ic(index.is_trained)\n",
    "index.add(popped_vectors)                  # add vectors to the index\n",
    "ic(index.ntotal)\n",
    "\n",
    "k = 4                          # we want to see 4 nearest neighbors\n",
    "D, I = index.search(xb[:5], k) # sanity check\n",
    "print(I)\n",
    "print(D)\n",
    "D, I = index.search(xq, k)     # actual search\n",
    "print(I[:5])                   # neighbors of the 5 first queries\n",
    "print(I[-5:])                  # neighbors of the 5 last queries"
   ]
  }
 ],
 "metadata": {
  "kernelspec": {
   "display_name": "Python 3",
   "language": "python",
   "name": "python3"
  },
  "language_info": {
   "codemirror_mode": {
    "name": "ipython",
    "version": 3
   },
   "file_extension": ".py",
   "mimetype": "text/x-python",
   "name": "python",
   "nbconvert_exporter": "python",
   "pygments_lexer": "ipython3",
   "version": "3.10.6"
  },
  "orig_nbformat": 4
 },
 "nbformat": 4,
 "nbformat_minor": 2
}
